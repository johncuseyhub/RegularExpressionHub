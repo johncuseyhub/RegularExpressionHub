{
 "cells": [
  {
   "cell_type": "markdown",
   "id": "1fa0132f",
   "metadata": {},
   "source": [
    "# Introduction"
   ]
  },
  {
   "cell_type": "markdown",
   "id": "15bd22a9",
   "metadata": {},
   "source": [
    "Regular Expression (regex) are used in progrmming langages to match parts of strings. You create patterns to match in the string. You put slash around the pattern. "
   ]
  },
  {
   "cell_type": "markdown",
   "id": "6bb38465",
   "metadata": {},
   "source": [
    "# Examples In JavaScript"
   ]
  },
  {
   "cell_type": "markdown",
   "id": "b762523b",
   "metadata": {},
   "source": [
    "## Using the Test Method"
   ]
  },
  {
   "cell_type": "markdown",
   "id": "33b29f8a",
   "metadata": {},
   "source": [
    "The **test method** in JavaScript results true if pattern match in the string. See **regex.test(string)** parameter is a **string**"
   ]
  },
  {
   "cell_type": "code",
   "execution_count": 5,
   "id": "8c8effab",
   "metadata": {},
   "outputs": [
    {
     "name": "stdout",
     "output_type": "stream",
     "text": [
      "result: true\n"
     ]
    }
   ],
   "source": [
    "var myString = \"Hello World!\";\n",
    "var myRegex = /Hello/;\n",
    "var result = myRegex.test(myString);\n",
    "\n",
    "console.log(\"result: \"+ result);"
   ]
  },
  {
   "cell_type": "markdown",
   "id": "103f7d12",
   "metadata": {},
   "source": [
    "## Match a Literal String with Different Possibilities"
   ]
  },
  {
   "cell_type": "markdown",
   "id": "961b4c80",
   "metadata": {},
   "source": [
    "Using the OR operator"
   ]
  },
  {
   "cell_type": "code",
   "execution_count": 7,
   "id": "959cf7a9",
   "metadata": {},
   "outputs": [
    {
     "name": "stdout",
     "output_type": "stream",
     "text": [
      "result: true\n"
     ]
    }
   ],
   "source": [
    "var petString = \"James has a pet cat.\";\n",
    "var petRegex = /dog|cat|bird|fish/;\n",
    "var result = petRegex.test(petString);\n",
    "\n",
    "console.log(\"result: \"+ result);"
   ]
  },
  {
   "cell_type": "markdown",
   "id": "c4a13801",
   "metadata": {},
   "source": [
    "## Ingore Case While Matching"
   ]
  },
  {
   "cell_type": "markdown",
   "id": "3fad5bb1",
   "metadata": {},
   "source": [
    "Ignore Case"
   ]
  },
  {
   "cell_type": "code",
   "execution_count": 9,
   "id": "70d853d4",
   "metadata": {},
   "outputs": [
    {
     "name": "stdout",
     "output_type": "stream",
     "text": [
      "result: true\n"
     ]
    }
   ],
   "source": [
    "var fccString = \"freeCodeCamp\";\n",
    "var fccRegex = /freeCodeCamp/i;\n",
    "var result = fccRegex.test(fccString);\n",
    "\n",
    "console.log(\"result: \"+ result);"
   ]
  },
  {
   "cell_type": "markdown",
   "id": "99c4c04f",
   "metadata": {},
   "source": [
    "## Exact Match"
   ]
  },
  {
   "cell_type": "markdown",
   "id": "da4f4328",
   "metadata": {},
   "source": [
    "We can extract the match with the **Match Method**. See **string.match(regex)** parameter is a **regex**"
   ]
  },
  {
   "cell_type": "code",
   "execution_count": 13,
   "id": "f5ea4ded",
   "metadata": {},
   "outputs": [
    {
     "name": "stdout",
     "output_type": "stream",
     "text": [
      "[\n",
      "  'coding',\n",
      "  index: 18,\n",
      "  input: \"Extract the word 'coding' from this string'\",\n",
      "  groups: undefined\n",
      "]\n"
     ]
    }
   ],
   "source": [
    "var extractString = \"Extract the word 'coding' from this string'\";\n",
    "var extractRegex = /coding/;\n",
    "var result = extractString.match(extractRegex);\n",
    "\n",
    "console.log(result);"
   ]
  },
  {
   "cell_type": "code",
   "execution_count": 15,
   "id": "d1268bd5",
   "metadata": {},
   "outputs": [
    {
     "name": "stdout",
     "output_type": "stream",
     "text": [
      "coding\n"
     ]
    }
   ],
   "source": [
    "var extractString = \"Extract the word 'coding' from this string\";\n",
    "var extractRegex = /coding/;\n",
    "var result = extractString.match(extractRegex);\n",
    "\n",
    "console.log(result[0]);"
   ]
  },
  {
   "cell_type": "markdown",
   "id": "65e2ea20",
   "metadata": {},
   "source": [
    "## Find More than the First Match"
   ]
  },
  {
   "cell_type": "markdown",
   "id": "6992bbdf",
   "metadata": {},
   "source": [
    "So far we've only extracted search patterns one time but it is also possible to search or extract a pattern more than once using g flag "
   ]
  },
  {
   "cell_type": "code",
   "execution_count": 17,
   "id": "797f6a0f",
   "metadata": {},
   "outputs": [
    {
     "name": "stdout",
     "output_type": "stream",
     "text": [
      "[ 'Repeat', 'Repeat', 'Repeat' ]\n"
     ]
    }
   ],
   "source": [
    "var repeatString = \"Repeat Repeat Repeat\";\n",
    "var repeatRegex = /Repeat/g;\n",
    "var result = repeatString.match(repeatRegex);\n",
    "\n",
    "console.log(result);"
   ]
  },
  {
   "cell_type": "markdown",
   "id": "c939f005",
   "metadata": {},
   "source": [
    "### Match Anything with Wildcard Period"
   ]
  },
  {
   "cell_type": "markdown",
   "id": "1da62e15",
   "metadata": {},
   "source": [
    "In Regular Expressions a **period** is wild card charcter"
   ]
  },
  {
   "cell_type": "code",
   "execution_count": null,
   "id": "162274de",
   "metadata": {},
   "outputs": [],
   "source": []
  }
 ],
 "metadata": {
  "kernelspec": {
   "display_name": "Javascript (Node.js)",
   "language": "javascript",
   "name": "javascript"
  },
  "language_info": {
   "file_extension": ".js",
   "mimetype": "application/javascript",
   "name": "javascript",
   "version": "14.18.0"
  }
 },
 "nbformat": 4,
 "nbformat_minor": 5
}

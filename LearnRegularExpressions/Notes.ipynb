{
 "cells": [
  {
   "cell_type": "markdown",
   "id": "f9c3df3d",
   "metadata": {},
   "source": [
    "# Introduction"
   ]
  },
  {
   "cell_type": "markdown",
   "id": "df450862",
   "metadata": {},
   "source": [
    "Regular Expression (regex) are used in progrmming langages to match parts of strings. You create patterns to match in the string. You put slash around the pattern. "
   ]
  },
  {
   "cell_type": "markdown",
   "id": "8f5ccfc8",
   "metadata": {},
   "source": [
    "# Examples In JavaScript"
   ]
  },
  {
   "cell_type": "markdown",
   "id": "98990c1f",
   "metadata": {},
   "source": [
    "## Using the Test Method"
   ]
  },
  {
   "cell_type": "markdown",
   "id": "7d98adc2",
   "metadata": {},
   "source": [
    "The **test method** in JavaScript results true if pattern match in the string. See **regex.test(string)** parameter is a **string**"
   ]
  },
  {
   "cell_type": "code",
   "execution_count": 25,
   "id": "81bbd34e",
   "metadata": {},
   "outputs": [
    {
     "name": "stdout",
     "output_type": "stream",
     "text": [
      "result: true\n"
     ]
    }
   ],
   "source": [
    "var myString = \"Hello World!\";\n",
    "var myRegex = /Hello/;\n",
    "var result = myRegex.test(myString);\n",
    "\n",
    "console.log(\"result: \"+ result);"
   ]
  },
  {
   "cell_type": "markdown",
   "id": "8038bf9c",
   "metadata": {},
   "source": [
    "## Match a Literal String with Different Possibilities"
   ]
  },
  {
   "cell_type": "markdown",
   "id": "7d41f3c6",
   "metadata": {},
   "source": [
    "Using the OR operator"
   ]
  },
  {
   "cell_type": "code",
   "execution_count": 26,
   "id": "c810dba4",
   "metadata": {},
   "outputs": [
    {
     "name": "stdout",
     "output_type": "stream",
     "text": [
      "result: true\n"
     ]
    }
   ],
   "source": [
    "var petString = \"James has a pet cat.\";\n",
    "var petRegex = /dog|cat|bird|fish/;\n",
    "var result = petRegex.test(petString);\n",
    "\n",
    "console.log(\"result: \"+ result);"
   ]
  },
  {
   "cell_type": "markdown",
   "id": "4bf94b66",
   "metadata": {},
   "source": [
    "## Ingore Case While Matching"
   ]
  },
  {
   "cell_type": "markdown",
   "id": "634e22da",
   "metadata": {},
   "source": [
    "Ignore Case"
   ]
  },
  {
   "cell_type": "code",
   "execution_count": 27,
   "id": "90f05284",
   "metadata": {},
   "outputs": [
    {
     "name": "stdout",
     "output_type": "stream",
     "text": [
      "result: true\n"
     ]
    }
   ],
   "source": [
    "var fccString = \"freeCodeCamp\";\n",
    "var fccRegex = /freeCodeCamp/i;\n",
    "var result = fccRegex.test(fccString);\n",
    "\n",
    "console.log(\"result: \"+ result);"
   ]
  },
  {
   "cell_type": "markdown",
   "id": "b406dbf8",
   "metadata": {},
   "source": [
    "## Exact Match"
   ]
  },
  {
   "cell_type": "markdown",
   "id": "63db82f6",
   "metadata": {},
   "source": [
    "We can extract the match with the **Match Method**. See **string.match(regex)** parameter is a **regex**"
   ]
  },
  {
   "cell_type": "code",
   "execution_count": 28,
   "id": "58788c0d",
   "metadata": {},
   "outputs": [
    {
     "name": "stdout",
     "output_type": "stream",
     "text": [
      "[\n",
      "  'coding',\n",
      "  index: 18,\n",
      "  input: \"Extract the word 'coding' from this string'\",\n",
      "  groups: undefined\n",
      "]\n"
     ]
    }
   ],
   "source": [
    "var extractString = \"Extract the word 'coding' from this string'\";\n",
    "var extractRegex = /coding/;\n",
    "var result = extractString.match(extractRegex);\n",
    "\n",
    "console.log(result);"
   ]
  },
  {
   "cell_type": "code",
   "execution_count": 29,
   "id": "08b47a5f",
   "metadata": {},
   "outputs": [
    {
     "name": "stdout",
     "output_type": "stream",
     "text": [
      "coding\n"
     ]
    }
   ],
   "source": [
    "var extractString = \"Extract the word 'coding' from this string\";\n",
    "var extractRegex = /coding/;\n",
    "var result = extractString.match(extractRegex);\n",
    "\n",
    "console.log(result[0]);"
   ]
  },
  {
   "cell_type": "markdown",
   "id": "eea5253f",
   "metadata": {},
   "source": [
    "## Find More than the First Match"
   ]
  },
  {
   "cell_type": "markdown",
   "id": "145944f5",
   "metadata": {},
   "source": [
    "So far we've only extracted search patterns one time but it is also possible to search or extract a pattern more than once using g flag "
   ]
  },
  {
   "cell_type": "code",
   "execution_count": 30,
   "id": "030d7da8",
   "metadata": {},
   "outputs": [
    {
     "name": "stdout",
     "output_type": "stream",
     "text": [
      "[ 'Repeat', 'Repeat', 'Repeat' ]\n"
     ]
    }
   ],
   "source": [
    "var repeatString = \"Repeat Repeat Repeat\";\n",
    "var repeatRegex = /Repeat/g;\n",
    "var result = repeatString.match(repeatRegex);\n",
    "\n",
    "console.log(result);"
   ]
  },
  {
   "cell_type": "markdown",
   "id": "245e4400",
   "metadata": {},
   "source": [
    "### Match Anything with Wildcard Period"
   ]
  },
  {
   "cell_type": "markdown",
   "id": "c065e2cf",
   "metadata": {},
   "source": [
    "In Regular Expressions a **period** is wild card charcter"
   ]
  },
  {
   "cell_type": "code",
   "execution_count": 31,
   "id": "3ec6faaa",
   "metadata": {},
   "outputs": [
    {
     "name": "stdout",
     "output_type": "stream",
     "text": [
      "[ 'hum' ]\n"
     ]
    }
   ],
   "source": [
    "var humString = \"I'll hum a song\";\n",
    "var humRegex = /hu./g;\n",
    "var result = humString.match(humRegex);\n",
    "\n",
    "console.log(result);"
   ]
  },
  {
   "cell_type": "code",
   "execution_count": 32,
   "id": "a6df9ebc",
   "metadata": {},
   "outputs": [
    {
     "name": "stdout",
     "output_type": "stream",
     "text": [
      "[ 'hug' ]\n"
     ]
    }
   ],
   "source": [
    "var hugString = \"Bear hug\";\n",
    "var hugRegex = /hu./g;\n",
    "var result = hugString.match(hugRegex);\n",
    "\n",
    "console.log(result);"
   ]
  },
  {
   "cell_type": "markdown",
   "id": "dc8f41f7",
   "metadata": {},
   "source": [
    "## Match Single Character with Muliple Possibilities"
   ]
  },
  {
   "cell_type": "code",
   "execution_count": 33,
   "id": "b9c99fae",
   "metadata": {},
   "outputs": [
    {
     "name": "stdout",
     "output_type": "stream",
     "text": [
      "[ 'bug' ]\n"
     ]
    }
   ],
   "source": [
    "var quoteString = \"Beware of bugs in the above code; I have only proved it correctly\";\n",
    "var bugRegex = /b[aiu]g/ig;\n",
    "var result = quoteString.match(bugRegex);\n",
    "\n",
    "console.log(result);"
   ]
  },
  {
   "cell_type": "markdown",
   "id": "b1a9b374",
   "metadata": {},
   "source": [
    "## Match Letters of the Alphabet "
   ]
  },
  {
   "cell_type": "code",
   "execution_count": 6,
   "id": "3d0dc0ff",
   "metadata": {},
   "outputs": [
    {
     "name": "stdout",
     "output_type": "stream",
     "text": [
      "[\n",
      "  'T', 'h', 'e', 'q', 'u', 'i', 'c',\n",
      "  'k', 'b', 'r', 'o', 'w', 'n', 'f',\n",
      "  'o', 'x', 'j', 'u', 'm', 'p', 's',\n",
      "  'o', 'v', 'e', 'r', 't', 'h', 'e',\n",
      "  'l', 'a', 'z', 'y', 'd', 'o', 'g'\n",
      "]\n",
      "XXX XXXXX XXXXX XXX XXXXX XXXX XXX XXXX XXX.\n"
     ]
    }
   ],
   "source": [
    "var quoteString = \"The quick brown fox jumps over the lazy dog.\";\n",
    "var alphabetRegex = /[a-z]/ig;\n",
    "var result = quoteString.match(alphabetRegex);\n",
    "\n",
    "console.log(result);\n",
    "console.log(quoteString.replace(alphabetRegex, 'X'));"
   ]
  },
  {
   "cell_type": "markdown",
   "id": "c5bcaf9e",
   "metadata": {},
   "source": [
    "## Match Numbers and Letters of the Alphabet"
   ]
  },
  {
   "cell_type": "code",
   "execution_count": 7,
   "id": "9a0e7f43",
   "metadata": {},
   "outputs": [
    {
     "name": "stdout",
     "output_type": "stream",
     "text": [
      "[\n",
      "  '3', '4', '5',\n",
      "  '2', '6', '5',\n",
      "  '3'\n",
      "]\n",
      "Blueberry X.1XX9XXXXs are delicious.\n"
     ]
    }
   ],
   "source": [
    "var quoteString = \"Blueberry 3.14592653s are delicious.\";\n",
    "var alphabetRegex = /[2-6]/g;\n",
    "var result = quoteString.match(alphabetRegex);\n",
    "\n",
    "console.log(result);\n",
    "console.log(quoteString.replace(alphabetRegex, 'X'));"
   ]
  },
  {
   "cell_type": "code",
   "execution_count": 8,
   "id": "c2004b39",
   "metadata": {},
   "outputs": [
    {
     "name": "stdout",
     "output_type": "stream",
     "text": [
      "[\n",
      "  'B', 'l', 'u', 'e', 'b',\n",
      "  'e', 'r', 'r', 'y', 's',\n",
      "  'a', 'r', 'e', 'd', 'e',\n",
      "  'l', 'i', 'c', 'i', 'o',\n",
      "  'u', 's'\n",
      "]\n",
      "XXXXXXXXX 3.14592653X XXX XXXXXXXXX.\n"
     ]
    }
   ],
   "source": [
    "var quoteString = \"Blueberry 3.14592653s are delicious.\";\n",
    "var alphabetRegex = /[a-z]/ig;\n",
    "var result = quoteString.match(alphabetRegex);\n",
    "\n",
    "console.log(result);\n",
    "console.log(quoteString.replace(alphabetRegex, 'X'));"
   ]
  },
  {
   "cell_type": "code",
   "execution_count": 9,
   "id": "f06e4671",
   "metadata": {},
   "outputs": [
    {
     "name": "stdout",
     "output_type": "stream",
     "text": [
      "[\n",
      "  'l', 'r', 'r', '3', '4',\n",
      "  '5', '2', '6', '5', '3',\n",
      "  's', 'r', 'l', 'i', 'i',\n",
      "  'o', 's'\n",
      "]\n",
      "BXuebeXXy X.1XX9XXXXX aXe deXXcXXuX.\n"
     ]
    }
   ],
   "source": [
    "var quoteString = \"Blueberry 3.14592653s are delicious.\";\n",
    "var alphabetRegex = /[2-6h-s]/ig;\n",
    "var result = quoteString.match(alphabetRegex);\n",
    "\n",
    "console.log(result);\n",
    "console.log(quoteString.replace(alphabetRegex, 'X'));"
   ]
  },
  {
   "cell_type": "markdown",
   "id": "06f64396",
   "metadata": {},
   "source": [
    "## Match Single Characters Not Specified"
   ]
  },
  {
   "cell_type": "code",
   "execution_count": 10,
   "id": "06a88aab",
   "metadata": {},
   "outputs": [
    {
     "name": "stdout",
     "output_type": "stream",
     "text": [
      "[\n",
      "  ' ', 'b', 'l',\n",
      "  'n', 'd', ' ',\n",
      "  'm', 'c', '.'\n",
      "]\n",
      "3XXXiXXXXiXeX\n"
     ]
    }
   ],
   "source": [
    "var quoteString = \"3 blind mice.\";\n",
    "var alphabetRegex = /[^0-9aeiou]/g;\n",
    "var result = quoteString.match(alphabetRegex);\n",
    "\n",
    "console.log(result);\n",
    "console.log(quoteString.replace(alphabetRegex, 'X'));"
   ]
  },
  {
   "cell_type": "markdown",
   "id": "921cec46",
   "metadata": {},
   "source": [
    "## Match Characters that Occur One or More Times "
   ]
  },
  {
   "cell_type": "code",
   "execution_count": 12,
   "id": "2c7227e9",
   "metadata": {},
   "outputs": [
    {
     "name": "stdout",
     "output_type": "stream",
     "text": [
      "[ 'ss', 'ss' ]\n",
      "MiXiXippi\n"
     ]
    }
   ],
   "source": [
    "var quoteString = \"Mississippi\";\n",
    "var alphabetRegex = /s+/g;\n",
    "var result = quoteString.match(alphabetRegex);\n",
    "\n",
    "console.log(result);\n",
    "console.log(quoteString.replace(alphabetRegex, 'X'));"
   ]
  },
  {
   "cell_type": "code",
   "execution_count": 11,
   "id": "06f67a9e",
   "metadata": {},
   "outputs": [
    {
     "name": "stdout",
     "output_type": "stream",
     "text": [
      "[ 'ss', 'ss' ]\n",
      "MiXiXippi\n"
     ]
    }
   ],
   "source": [
    "var quoteString = \"Mississippi\";\n",
    "var alphabetRegex = /(s)+/g;\n",
    "var result = quoteString.match(alphabetRegex);\n",
    "\n",
    "console.log(result);\n",
    "console.log(quoteString.replace(alphabetRegex, 'X'));"
   ]
  },
  {
   "cell_type": "markdown",
   "id": "ec04add4",
   "metadata": {},
   "source": [
    "## Match Characters that Occur Zero or More Times"
   ]
  },
  {
   "cell_type": "code",
   "execution_count": 13,
   "id": "5a122558",
   "metadata": {},
   "outputs": [
    {
     "name": "stdout",
     "output_type": "stream",
     "text": [
      "[ 'goooooooooo' ]\n",
      "Xal\n"
     ]
    }
   ],
   "source": [
    "var quoteString = \"gooooooooooal\";\n",
    "var alphabetRegex = /go*/g;\n",
    "var result = quoteString.match(alphabetRegex);\n",
    "\n",
    "console.log(result);\n",
    "console.log(quoteString.replace(alphabetRegex, 'X'));"
   ]
  },
  {
   "cell_type": "code",
   "execution_count": 14,
   "id": "b8186dc2",
   "metadata": {},
   "outputs": [
    {
     "name": "stdout",
     "output_type": "stream",
     "text": [
      "[ 'g', 'g' ]\n",
      "Xut feelinX\n"
     ]
    }
   ],
   "source": [
    "var quoteString = \"gut feeling\";\n",
    "var alphabetRegex = /go*/g;\n",
    "var result = quoteString.match(alphabetRegex);\n",
    "\n",
    "console.log(result);\n",
    "console.log(quoteString.replace(alphabetRegex, 'X'));"
   ]
  },
  {
   "cell_type": "markdown",
   "id": "8ee08325",
   "metadata": {},
   "source": [
    "## Find Character with Lazy Matching"
   ]
  },
  {
   "cell_type": "markdown",
   "id": "73744351",
   "metadata": {},
   "source": [
    "Greedy Match finds the longest Match. Regular Expressions default to Greedy Match. "
   ]
  },
  {
   "cell_type": "code",
   "execution_count": 16,
   "id": "624b92e4",
   "metadata": {},
   "outputs": [
    {
     "name": "stdout",
     "output_type": "stream",
     "text": [
      "[ 'titani' ]\n",
      "Xc\n"
     ]
    }
   ],
   "source": [
    "var quoteString = \"titanic\";\n",
    "var alphabetRegex = /t[a-z]*i/g;\n",
    "var result = quoteString.match(alphabetRegex);\n",
    "\n",
    "console.log(result);\n",
    "console.log(quoteString.replace(alphabetRegex, 'X'));"
   ]
  },
  {
   "cell_type": "code",
   "execution_count": 21,
   "id": "622146ca",
   "metadata": {},
   "outputs": [
    {
     "name": "stdout",
     "output_type": "stream",
     "text": [
      "[ '<h1>Winter is coming</h1>' ]\n",
      "X\n"
     ]
    }
   ],
   "source": [
    "var quoteString = \"<h1>Winter is coming</h1>\";\n",
    "var alphabetRegex = /<.*>/g;\n",
    "var result = quoteString.match(alphabetRegex);\n",
    "\n",
    "console.log(result);\n",
    "console.log(quoteString.replace(alphabetRegex, 'X'));"
   ]
  },
  {
   "cell_type": "markdown",
   "id": "40aafd6f",
   "metadata": {},
   "source": [
    "Lazy Macth finds the shortest Match. The **Question Mark** makes it a Lazy Match. "
   ]
  },
  {
   "cell_type": "code",
   "execution_count": 17,
   "id": "12af3b50",
   "metadata": {},
   "outputs": [
    {
     "name": "stdout",
     "output_type": "stream",
     "text": [
      "[ 'ti', 'tani' ]\n",
      "XXc\n"
     ]
    }
   ],
   "source": [
    "var quoteString = \"titanic\";\n",
    "var alphabetRegex = /t[a-z]*?i/g;\n",
    "var result = quoteString.match(alphabetRegex);\n",
    "\n",
    "console.log(result);\n",
    "console.log(quoteString.replace(alphabetRegex, 'X'));"
   ]
  },
  {
   "cell_type": "code",
   "execution_count": 20,
   "id": "630b4db7",
   "metadata": {},
   "outputs": [
    {
     "name": "stdout",
     "output_type": "stream",
     "text": [
      "[ '<h1>', '</h1>' ]\n",
      "XWinter is comingX\n"
     ]
    }
   ],
   "source": [
    "var quoteString = \"<h1>Winter is coming</h1>\";\n",
    "var alphabetRegex = /<.*?>/g;\n",
    "var result = quoteString.match(alphabetRegex);\n",
    "\n",
    "console.log(result);\n",
    "console.log(quoteString.replace(alphabetRegex, 'X'));"
   ]
  },
  {
   "cell_type": "markdown",
   "id": "e1e474d6",
   "metadata": {},
   "source": [
    "## Find One or More Criminals in a Hunt"
   ]
  },
  {
   "cell_type": "markdown",
   "id": "23b6a383",
   "metadata": {},
   "source": [
    "Regex Challenge so here is the scenario a group of criminals escaped from jail and ran away but you do not know how many. But you do not know how many however you do know that they stay close together when they're around other people.  You are responsible for finding all the criminals at once. So the crimainals are represented by a \"c\". Write a regex function that's going to match any times there's is one or mores \"c's\"."
   ]
  },
  {
   "cell_type": "code",
   "execution_count": 23,
   "id": "648cb355",
   "metadata": {},
   "outputs": [
    {
     "name": "stdout",
     "output_type": "stream",
     "text": [
      "[ 'CCC' ]\n",
      "P1P2P3P4P5P6XP7P8P9\n"
     ]
    }
   ],
   "source": [
    "var crowd = \"P1P2P3P4P5P6CCCP7P8P9\"\n",
    "var criminalRegex = /C+/g\n",
    "var result = crowd.match(criminalRegex);\n",
    "\n",
    "console.log(result);\n",
    "console.log(crowd.replace(criminalRegex, 'X'));"
   ]
  },
  {
   "cell_type": "markdown",
   "id": "a72d4d70",
   "metadata": {},
   "source": [
    "## Match Beginning String Patterns"
   ]
  },
  {
   "cell_type": "code",
   "execution_count": null,
   "id": "55c651dd",
   "metadata": {},
   "outputs": [],
   "source": [
    "var rickyAndCal = \"Cal and Ricky both like racing.\"\n",
    "var calRegex = /^Cal/g\n",
    "var result = rickyAndCal.match(criminalRegex);\n",
    "\n",
    "console.log(result);\n",
    "console.log(rickyAndCal.replace(criminalRegex, 'X'));"
   ]
  }
 ],
 "metadata": {
  "kernelspec": {
   "display_name": "Javascript (Node.js)",
   "language": "javascript",
   "name": "javascript"
  },
  "language_info": {
   "file_extension": ".js",
   "mimetype": "application/javascript",
   "name": "javascript",
   "version": "14.18.0"
  }
 },
 "nbformat": 4,
 "nbformat_minor": 5
}
